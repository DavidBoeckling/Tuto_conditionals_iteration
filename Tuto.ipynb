{
 "cells": [
  {
   "cell_type": "markdown",
   "metadata": {},
   "source": [
    "Imagine that you invite a few friends to dinner at your place. At the beginning of the meal, one guest attracts your attention : \"I'm sorry, but I don't have any fork...\"\n",
    "\n",
    "As every human being, you will understand his implicit request : \"Could you please give me a fork ?\"\n",
    "\n",
    "Given that you are having a meal, you will also deduce that the requested object is a small fork to eat, not a farmer's fork...\n",
    "\n",
    "Finally, if you don't find any fork in your kitchen, you will probably think about it a few seconds : \"Well... Maybe I can borrow one from the neighbor...\""
   ]
  },
  {
   "cell_type": "markdown",
   "metadata": {},
   "source": [
    "You have to keep in mind that your computer is not as clever as you. At least at our basic programming level, your computer is totally unable to understand any implicit assertion, to interpret an assertion according to the context or improvise in an unexpected situation.\n",
    "\n",
    "It means that you have to give him precise instructions about what to do in each possible situation. Fortunately, you use a programming language to speak to your computer, and programming languages like Python use specific predefined (in jargon native) structures to deal with those cases."
   ]
  },
  {
   "cell_type": "markdown",
   "metadata": {},
   "source": [
    "The conditionals allow us to tell our computer what to do in specific situations.\n",
    "\n",
    "In order to make you learning easier, we will start from a concrete example : a user connection interface. We will simplify the example as much as possible."
   ]
  },
  {
   "cell_type": "markdown",
   "metadata": {},
   "source": [
    "We basically define an ID and a password that will be required to connect to our fictitious server. In a real situation, the user would have registered those informations previously. Don’t forget to add \"\" around the desired terms to set their type as strings."
   ]
  },
  {
   "cell_type": "code",
   "execution_count": null,
   "metadata": {},
   "outputs": [],
   "source": [
    "ID = \"Euler\"\n",
    "password = \"271\""
   ]
  },
  {
   "cell_type": "markdown",
   "metadata": {},
   "source": [
    "We then need to define the data given by the user. We use the function input to let the user type his personal informations."
   ]
  },
  {
   "cell_type": "code",
   "execution_count": null,
   "metadata": {},
   "outputs": [],
   "source": [
    "ID = \"Euler\"\n",
    "password = \"271\"\n",
    "\n",
    "user_ID = input(\"Enter your ID : \")\n",
    "user_password = input(\"Enter your password : \")"
   ]
  },
  {
   "cell_type": "markdown",
   "metadata": {},
   "source": [
    "At this point, there are basically two different situations : either the user gives the required informations, or he gives false ones. In the first situation, he will successfully connect; in the other one, he won't have access to the programme. We represent the case in the following pseudocode."
   ]
  },
  {
   "cell_type": "raw",
   "metadata": {},
   "source": [
    "If user gives correct informations:\n",
    "    access the programme\n",
    "Else:\n",
    "    don't access the programme"
   ]
  },
  {
   "cell_type": "markdown",
   "metadata": {},
   "source": [
    "In our simplified example, we only have one registered user, but let assume that they are plenty. To successfully connect, our user must give the correct ID AND the correct password. It means that the given ID must be equal to the registered ID as well as the given password must be equal to the registered one. By the way, the user will enjoy it if we print a small message confirming his successful (or unsuccessful) connection. Let's insert it into our pseudocode."
   ]
  },
  {
   "cell_type": "raw",
   "metadata": {},
   "source": [
    "If ID <=> user_ID AND password <=> user_password:\n",
    "    print : Welcome (user_name) ! You are connected.\n",
    "    access the programme\n",
    "Else:\n",
    "    print : Invalid ID or password\n",
    "    don't access the programme"
   ]
  },
  {
   "cell_type": "markdown",
   "metadata": {},
   "source": [
    "Python is a programming language that is very intuitive to use. The defined Python syntax for the conditionals is quite similar to what we have written in our pseudocode. Indeed :"
   ]
  },
  {
   "cell_type": "code",
   "execution_count": null,
   "metadata": {},
   "outputs": [],
   "source": [
    "if ID == user_ID and password == user_password:\n",
    "\tprint(\"Welcome {} ! You are connected.\".format(user_ID))\n",
    "\tuser_connected = True\n",
    "else:\n",
    "\tprint(\"ID or password are invalid\")\n",
    "\tuser_connected = False"
   ]
  },
  {
   "cell_type": "markdown",
   "metadata": {},
   "source": [
    "What have we done ? We have used the conditionals if and else to differentiate the two situations.\n",
    "\n",
    "Then, we have defined a new 'user_connected' variable that we could use later to let the user continue in the programme (what are not going to do it in our simplified example).\n",
    "\n",
    "If : If the user types the correct ID AND the correct password, he would get a personalized welcoming message and the variable 'user_connected' would be True.\n",
    "\n",
    "Else : In all other situations, he would get a personalized failure message and 'user_connected' will be False.\n",
    "\n",
    "Each of those two conditions is exclusive. Python will execute either the if (and subsumed tabulated lines) or the else, but never both.\n",
    "\n",
    "You can check it by running the following code. You just have to select the cell and press ⌃↩. Try all situations with correct and incorrect informations.\n",
    "\n",
    "PS : We add the last line in order to allow you to check if the user is connected or not. If you get True, he's virtually connected; if you get False, he isn't."
   ]
  },
  {
   "cell_type": "code",
   "execution_count": null,
   "metadata": {},
   "outputs": [],
   "source": [
    "ID = \"Euler\"\n",
    "password = \"271\"\n",
    "\n",
    "user_ID = input(\"Enter your ID : \")\n",
    "user_password = input(\"Enter your password : \")\n",
    "\n",
    "if ID == user_ID and password == user_password:\n",
    "\tprint(\"Welcome {} ! You are connected.\".format(user_ID))\n",
    "\tuser_connected = True\n",
    "else:\n",
    "\tprint(\"invalid ID or password\")\n",
    "\tuser_connected = False\n",
    "    \n",
    "print(user_connected)"
   ]
  },
  {
   "cell_type": "markdown",
   "metadata": {},
   "source": [
    "As you have surely noticed, it would be very useful to have more than two conditions. Indeed, the user knows that he entered an incorrect ID or password, but he don't know which one is incorrect (or if both are incorrect).\n",
    "\n",
    "To add a supplementary condition, we can use the conditional elif (It's the name in Python. In other languages, the name of this conditional can be different).\n",
    "\n",
    "You can check our new code by running the following cell."
   ]
  },
  {
   "cell_type": "code",
   "execution_count": null,
   "metadata": {},
   "outputs": [],
   "source": [
    "ID = \"Euler\"\n",
    "password = \"271\"\n",
    "\n",
    "user_ID = input(\"Enter your ID : \")\n",
    "user_password = input(\"Enter your password : \")\n",
    "\n",
    "if ID == user_ID and password == user_password:\n",
    "\tprint(\"Welcome {} ! You are connected.\".format(user_ID))\n",
    "\tuser_connected = True\n",
    "elif ID != user_ID and password == user_password:\n",
    "\tprint(\"Invalid ID. Please enter a correct ID.\")\n",
    "\tuser_connected = False\n",
    "elif password != user_password and ID == user_ID:\n",
    "\tprint(\"Invalid password. Please enter a correct password.\")\n",
    "\tuser_connected = False\n",
    "elif ID != user_ID and password != user_password:\n",
    "    print(\"Both ID and password are invalid. Please enter correct informations.\")\n",
    "    user_connected = False\n",
    "\n",
    "print(user_connected)"
   ]
  },
  {
   "cell_type": "markdown",
   "metadata": {},
   "source": [
    "If (first situation): If the user types the correct ID AND the correct password, he would get a personalized welcoming message and the variable 'user_connected' would be True.\n",
    "\n",
    "Elif (second situation) : Else, if only the ID is incorrect, the user he would get an ad hoc message and 'user_connected' will be False.\n",
    "\n",
    "Elif (third situation) : Else, if only the password is incorrect, the user he would get an ad hoc message and 'user_connected' will be False.\n",
    "\n",
    "Elif (fourth situation) : Else, if both ID and password are incorrect, the user he would get an ad hoc message and 'user_connected' will be False."
   ]
  },
  {
   "cell_type": "markdown",
   "metadata": {},
   "source": [
    "At this point, you may ask : \"Wait... There are four situations. Why don't we replace the last elif with an else ?\"\n",
    "\n",
    "Maybe you are right, and there are only four situations. But maybe not... The rule in programming is not to trust the user. Maybe, he will do something unexpected. In this case, he will get an error message from the system. For you, it's nothing much; it will even help to find your mistake. But the user is not supposed to know how to react in those situations. It could be quite a frustrating experience for him. That's not what you want, right ?\n",
    "\n",
    "For this reason, it's highly advisable to add a final else in order to deal with any unexpected error. The user won't get any further information about his mistake, but at least, he won't get an incomprehensible message error from the system.\n",
    "\n",
    "If you have time to waste, you can try printing the last message by entering some unexpected input. Good luck !"
   ]
  },
  {
   "cell_type": "code",
   "execution_count": null,
   "metadata": {},
   "outputs": [],
   "source": [
    "ID = \"Euler\"\n",
    "password = \"271\"\n",
    "\n",
    "user_ID = input(\"Enter your ID : \")\n",
    "user_password = input(\"Enter your password : \")\n",
    "\n",
    "if ID == user_ID and password == user_password:\n",
    "\tprint(\"Welcome {} ! You are connected.\".format(user_ID))\n",
    "\tuser_connected = True\n",
    "elif ID != user_ID and password == user_password:\n",
    "\tprint(\"Invalid ID. Please enter a correct ID.\")\n",
    "\tuser_connected = False\n",
    "elif password != user_password and ID == user_ID:\n",
    "\tprint(\"Invalid password. Please enter a correct password.\")\n",
    "\tuser_connected = False\n",
    "elif ID != user_ID and password != user_password:\n",
    "    print(\"Both ID and password are invalid. Please enter correct informations.\")\n",
    "    user_connected = False\n",
    "else:\n",
    "\tprint(\"Something went wrong. Please retry to submit your ID and password.\")\n",
    "\tuser_connected = False\n",
    "\n",
    "print(user_connected)"
   ]
  },
  {
   "cell_type": "markdown",
   "metadata": {},
   "source": [
    "To sum up :\n",
    "\n",
    "Always start with an if to create your first condition. Don't forget to add ':' at the end of the line. Python will automatically add a tabulation to the following line. All the following with this tabulation will be included in you first condition.\n",
    "\n",
    "Then you can creating other conditions by adding as many elif as you like. Keep in mind that each elif is a new condition; you thus have to return to the same tabulation level that the first if.\n",
    "\n",
    "At the end, just add an else to deal with all the other (unexpected) situations."
   ]
  }
 ],
 "metadata": {
  "kernelspec": {
   "display_name": "Python 3",
   "language": "python",
   "name": "python3"
  },
  "language_info": {
   "codemirror_mode": {
    "name": "ipython",
    "version": 3
   },
   "file_extension": ".py",
   "mimetype": "text/x-python",
   "name": "python",
   "nbconvert_exporter": "python",
   "pygments_lexer": "ipython3",
   "version": "3.6.5"
  }
 },
 "nbformat": 4,
 "nbformat_minor": 2
}
